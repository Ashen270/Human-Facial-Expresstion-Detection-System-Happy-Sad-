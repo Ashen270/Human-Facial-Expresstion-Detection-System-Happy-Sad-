{
 "cells": [
  {
   "cell_type": "code",
   "execution_count": 3,
   "id": "621c4afd",
   "metadata": {},
   "outputs": [
    {
     "name": "stdout",
     "output_type": "stream",
     "text": [
      "emotion\n",
      "0    4953\n",
      "1     547\n",
      "2    5121\n",
      "3    8989\n",
      "4    6077\n",
      "5    4002\n",
      "6    6198\n",
      "dtype: int64\n"
     ]
    }
   ],
   "source": [
    "import pandas as pd\n",
    "\n",
    "# Read the CSV file into a DataFrame\n",
    "df = pd.read_csv(r'C:\\Users\\user\\Desktop\\ML\\Group_02_Project_report (1)\\Group_02\\ml new\\fer2013.csv')\n",
    "\n",
    "# Group the data by the values of the \"Usage\" column and get the count of images in each group\n",
    "grouped_data = df.groupby('emotion').size()\n",
    "\n",
    "# Print the count of images in each group\n",
    "print(grouped_data)\n"
   ]
  },
  {
   "cell_type": "code",
   "execution_count": 4,
   "id": "beef75f8",
   "metadata": {},
   "outputs": [
    {
     "data": {
      "text/html": [
       "<div>\n",
       "<style scoped>\n",
       "    .dataframe tbody tr th:only-of-type {\n",
       "        vertical-align: middle;\n",
       "    }\n",
       "\n",
       "    .dataframe tbody tr th {\n",
       "        vertical-align: top;\n",
       "    }\n",
       "\n",
       "    .dataframe thead th {\n",
       "        text-align: right;\n",
       "    }\n",
       "</style>\n",
       "<table border=\"1\" class=\"dataframe\">\n",
       "  <thead>\n",
       "    <tr style=\"text-align: right;\">\n",
       "      <th></th>\n",
       "      <th>emotion</th>\n",
       "      <th>pixels</th>\n",
       "      <th>Usage</th>\n",
       "    </tr>\n",
       "  </thead>\n",
       "  <tbody>\n",
       "    <tr>\n",
       "      <th>0</th>\n",
       "      <td>0</td>\n",
       "      <td>70 80 82 72 58 58 60 63 54 58 60 48 89 115 121...</td>\n",
       "      <td>Training</td>\n",
       "    </tr>\n",
       "    <tr>\n",
       "      <th>1</th>\n",
       "      <td>0</td>\n",
       "      <td>151 150 147 155 148 133 111 140 170 174 182 15...</td>\n",
       "      <td>Training</td>\n",
       "    </tr>\n",
       "    <tr>\n",
       "      <th>2</th>\n",
       "      <td>2</td>\n",
       "      <td>231 212 156 164 174 138 161 173 182 200 106 38...</td>\n",
       "      <td>Training</td>\n",
       "    </tr>\n",
       "    <tr>\n",
       "      <th>3</th>\n",
       "      <td>4</td>\n",
       "      <td>24 32 36 30 32 23 19 20 30 41 21 22 32 34 21 1...</td>\n",
       "      <td>Training</td>\n",
       "    </tr>\n",
       "    <tr>\n",
       "      <th>4</th>\n",
       "      <td>6</td>\n",
       "      <td>4 0 0 0 0 0 0 0 0 0 0 0 3 15 23 28 48 50 58 84...</td>\n",
       "      <td>Training</td>\n",
       "    </tr>\n",
       "    <tr>\n",
       "      <th>...</th>\n",
       "      <td>...</td>\n",
       "      <td>...</td>\n",
       "      <td>...</td>\n",
       "    </tr>\n",
       "    <tr>\n",
       "      <th>35882</th>\n",
       "      <td>6</td>\n",
       "      <td>50 36 17 22 23 29 33 39 34 37 37 37 39 43 48 5...</td>\n",
       "      <td>PrivateTest</td>\n",
       "    </tr>\n",
       "    <tr>\n",
       "      <th>35883</th>\n",
       "      <td>3</td>\n",
       "      <td>178 174 172 173 181 188 191 194 196 199 200 20...</td>\n",
       "      <td>PrivateTest</td>\n",
       "    </tr>\n",
       "    <tr>\n",
       "      <th>35884</th>\n",
       "      <td>0</td>\n",
       "      <td>17 17 16 23 28 22 19 17 25 26 20 24 31 19 27 9...</td>\n",
       "      <td>PrivateTest</td>\n",
       "    </tr>\n",
       "    <tr>\n",
       "      <th>35885</th>\n",
       "      <td>3</td>\n",
       "      <td>30 28 28 29 31 30 42 68 79 81 77 67 67 71 63 6...</td>\n",
       "      <td>PrivateTest</td>\n",
       "    </tr>\n",
       "    <tr>\n",
       "      <th>35886</th>\n",
       "      <td>2</td>\n",
       "      <td>19 13 14 12 13 16 21 33 50 57 71 84 97 108 122...</td>\n",
       "      <td>PrivateTest</td>\n",
       "    </tr>\n",
       "  </tbody>\n",
       "</table>\n",
       "<p>35887 rows × 3 columns</p>\n",
       "</div>"
      ],
      "text/plain": [
       "       emotion                                             pixels        Usage\n",
       "0            0  70 80 82 72 58 58 60 63 54 58 60 48 89 115 121...     Training\n",
       "1            0  151 150 147 155 148 133 111 140 170 174 182 15...     Training\n",
       "2            2  231 212 156 164 174 138 161 173 182 200 106 38...     Training\n",
       "3            4  24 32 36 30 32 23 19 20 30 41 21 22 32 34 21 1...     Training\n",
       "4            6  4 0 0 0 0 0 0 0 0 0 0 0 3 15 23 28 48 50 58 84...     Training\n",
       "...        ...                                                ...          ...\n",
       "35882        6  50 36 17 22 23 29 33 39 34 37 37 37 39 43 48 5...  PrivateTest\n",
       "35883        3  178 174 172 173 181 188 191 194 196 199 200 20...  PrivateTest\n",
       "35884        0  17 17 16 23 28 22 19 17 25 26 20 24 31 19 27 9...  PrivateTest\n",
       "35885        3  30 28 28 29 31 30 42 68 79 81 77 67 67 71 63 6...  PrivateTest\n",
       "35886        2  19 13 14 12 13 16 21 33 50 57 71 84 97 108 122...  PrivateTest\n",
       "\n",
       "[35887 rows x 3 columns]"
      ]
     },
     "execution_count": 4,
     "metadata": {},
     "output_type": "execute_result"
    }
   ],
   "source": [
    "df\n"
   ]
  },
  {
   "cell_type": "code",
   "execution_count": 8,
   "id": "76a8a369",
   "metadata": {},
   "outputs": [
    {
     "name": "stdout",
     "output_type": "stream",
     "text": [
      "       emotion                                             pixels        Usage\n",
      "0            4  24 32 36 30 32 23 19 20 30 41 21 22 32 34 21 1...     Training\n",
      "1            4  20 17 19 21 25 38 42 42 46 54 56 62 63 66 82 1...     Training\n",
      "2            3  77 78 79 79 78 75 60 55 47 48 58 73 77 79 57 5...     Training\n",
      "3            3  85 84 90 121 101 102 133 153 153 169 177 189 1...     Training\n",
      "4            3  4 2 13 41 56 62 67 87 95 62 65 70 80 107 127 1...     Training\n",
      "...        ...                                                ...          ...\n",
      "15061        3  217 220 222 223 223 224 225 223 223 225 223 22...  PrivateTest\n",
      "15062        4  54 57 77 122 121 76 73 80 58 22 26 27 35 41 66...  PrivateTest\n",
      "15063        3  0 39 81 80 104 97 51 64 68 46 41 67 53 68 70 5...  PrivateTest\n",
      "15064        3  178 174 172 173 181 188 191 194 196 199 200 20...  PrivateTest\n",
      "15065        3  30 28 28 29 31 30 42 68 79 81 77 67 67 71 63 6...  PrivateTest\n",
      "\n",
      "[15066 rows x 3 columns]\n"
     ]
    }
   ],
   "source": [
    "import pandas as pd\n",
    "\n",
    "# Read the CSV file into a DataFrame\n",
    "df = pd.read_csv(r'C:\\Users\\user\\Desktop\\ML\\Group_02_Project_report (1)\\Group_02\\ml new\\fer2013.csv')\n",
    "\n",
    "# Keep only the rows with emotions 3 and 4\n",
    "df_filtered = df[df['emotion'].isin([3, 4])]\n",
    "\n",
    "# Reset the index of the filtered DataFrame\n",
    "df_filtered.reset_index(drop=True, inplace=True)\n",
    "\n",
    "# Print the filtered DataFrame\n",
    "print(df_filtered)\n",
    "\n",
    "df=df_filtered\n"
   ]
  },
  {
   "cell_type": "code",
   "execution_count": 6,
   "id": "23536a68",
   "metadata": {},
   "outputs": [
    {
     "name": "stdout",
     "output_type": "stream",
     "text": [
      "3    8989\n",
      "6    6198\n",
      "4    6077\n",
      "2    5121\n",
      "0    4953\n",
      "5    4002\n",
      "1     547\n",
      "Name: emotion, dtype: int64\n"
     ]
    }
   ],
   "source": [
    "# Count the occurrences of each emotion\n",
    "emotion_counts = df['emotion'].value_counts()\n",
    "\n",
    "# Print the counts\n",
    "print(emotion_counts)\n"
   ]
  },
  {
   "cell_type": "code",
   "execution_count": 7,
   "id": "e08d273e",
   "metadata": {},
   "outputs": [
    {
     "data": {
      "text/html": [
       "<div>\n",
       "<style scoped>\n",
       "    .dataframe tbody tr th:only-of-type {\n",
       "        vertical-align: middle;\n",
       "    }\n",
       "\n",
       "    .dataframe tbody tr th {\n",
       "        vertical-align: top;\n",
       "    }\n",
       "\n",
       "    .dataframe thead th {\n",
       "        text-align: right;\n",
       "    }\n",
       "</style>\n",
       "<table border=\"1\" class=\"dataframe\">\n",
       "  <thead>\n",
       "    <tr style=\"text-align: right;\">\n",
       "      <th></th>\n",
       "      <th>emotion</th>\n",
       "    </tr>\n",
       "  </thead>\n",
       "  <tbody>\n",
       "    <tr>\n",
       "      <th>count</th>\n",
       "      <td>35887.000000</td>\n",
       "    </tr>\n",
       "    <tr>\n",
       "      <th>mean</th>\n",
       "      <td>3.323265</td>\n",
       "    </tr>\n",
       "    <tr>\n",
       "      <th>std</th>\n",
       "      <td>1.873819</td>\n",
       "    </tr>\n",
       "    <tr>\n",
       "      <th>min</th>\n",
       "      <td>0.000000</td>\n",
       "    </tr>\n",
       "    <tr>\n",
       "      <th>25%</th>\n",
       "      <td>2.000000</td>\n",
       "    </tr>\n",
       "    <tr>\n",
       "      <th>50%</th>\n",
       "      <td>3.000000</td>\n",
       "    </tr>\n",
       "    <tr>\n",
       "      <th>75%</th>\n",
       "      <td>5.000000</td>\n",
       "    </tr>\n",
       "    <tr>\n",
       "      <th>max</th>\n",
       "      <td>6.000000</td>\n",
       "    </tr>\n",
       "  </tbody>\n",
       "</table>\n",
       "</div>"
      ],
      "text/plain": [
       "            emotion\n",
       "count  35887.000000\n",
       "mean       3.323265\n",
       "std        1.873819\n",
       "min        0.000000\n",
       "25%        2.000000\n",
       "50%        3.000000\n",
       "75%        5.000000\n",
       "max        6.000000"
      ]
     },
     "execution_count": 7,
     "metadata": {},
     "output_type": "execute_result"
    }
   ],
   "source": [
    "df.describe()\n"
   ]
  },
  {
   "cell_type": "code",
   "execution_count": 6,
   "id": "4b5f998e",
   "metadata": {},
   "outputs": [
    {
     "name": "stdout",
     "output_type": "stream",
     "text": [
      "[-0.04100704 -0.03584096 -0.03062466 ...  0.01576522  0.01988822\n",
      "  0.01256976]\n"
     ]
    }
   ],
   "source": [
    "import pandas as pd\n",
    "import numpy as np\n",
    "\n",
    "# Select a random sample from the dataset\n",
    "sample_size = 1000  # Adjust the sample size as needed\n",
    "random_sample = df.sample(n=sample_size, random_state=1)\n",
    "\n",
    "# Select the pixel column and emotion column from the random sample\n",
    "pixels = random_sample['pixels'].apply(lambda x: np.fromstring(x, sep=' ').reshape(48, 48))\n",
    "emotion = random_sample['emotion']\n",
    "\n",
    "# Flatten the pixel arrays\n",
    "pixels_flat = np.stack(pixels).reshape(len(pixels), -1)\n",
    "\n",
    "# Calculate the correlation between the emotion column and all pixels\n",
    "valid_columns = np.where(pixels_flat.std(axis=0) != 0)[0]\n",
    "correlation_matrix = np.corrcoef(pixels_flat[:, valid_columns].T, emotion)\n",
    "\n",
    "# Get the correlation of emotion with all pixels\n",
    "emotion_correlation = np.full(pixels_flat.shape[1], np.nan)\n",
    "emotion_correlation[valid_columns] = correlation_matrix[:-1, -1]\n",
    "\n",
    "# Print the correlation of emotion with all pixels\n",
    "print(emotion_correlation)\n"
   ]
  },
  {
   "cell_type": "code",
   "execution_count": 7,
   "id": "f4705420",
   "metadata": {},
   "outputs": [],
   "source": [
    "import numpy as np\n",
    "import pandas as pd\n",
    "from sklearn.model_selection import train_test_split\n",
    "from sklearn.ensemble import RandomForestClassifier\n"
   ]
  },
  {
   "cell_type": "code",
   "execution_count": 8,
   "id": "248fcd8e",
   "metadata": {},
   "outputs": [
    {
     "name": "stdout",
     "output_type": "stream",
     "text": [
      "Usage\n",
      "Test         3021\n",
      "Training    12045\n",
      "dtype: int64\n"
     ]
    }
   ],
   "source": [
    "\n",
    "# Rename \"PrivateTest\" and \"PublicTest\" groups to \"Test\"\n",
    "df['Usage'] = df['Usage'].replace(['PrivateTest', 'PublicTest'], 'Test')\n",
    "\n",
    "# Group the data by the values of the \"Usage\" column and get the count of images in each group\n",
    "grouped_data = df.groupby('Usage').size()\n",
    "\n",
    "# Print the count of images in each group\n",
    "print(grouped_data)"
   ]
  },
  {
   "cell_type": "code",
   "execution_count": 9,
   "id": "0bcc5f20",
   "metadata": {},
   "outputs": [
    {
     "name": "stdout",
     "output_type": "stream",
     "text": [
      "Precision: 0.7202657178616664\n",
      "Recall: 0.7229166666666667\n",
      "F1-score: 0.71338904577846\n",
      "Test Precision: 0.7193564904292847\n",
      "Test Recall: 0.72\n",
      "Test F1-score: 0.7109866122327606\n"
     ]
    }
   ],
   "source": [
    "import pandas as pd\n",
    "import numpy as np\n",
    "from sklearn.model_selection import train_test_split\n",
    "from sklearn.ensemble import RandomForestClassifier\n",
    "from sklearn.metrics import confusion_matrix, precision_score, recall_score, f1_score\n",
    "\n",
    "# Get the indices of the training and testing samples\n",
    "train_indices = df[df['Usage'] == 'Training'].sample(n=12000, random_state=42).index\n",
    "test_indices = df[df['Usage'] == 'Test'].sample(n=2500, random_state=42).index\n",
    "\n",
    "# Select the training and testing data based on the indices\n",
    "train_data = df.loc[train_indices]\n",
    "test_data = df.loc[test_indices]\n",
    "\n",
    "# Extract pixel values and labels\n",
    "X_train = train_data['pixels'].values\n",
    "y_train = train_data['emotion'].values\n",
    "X_test = test_data['pixels'].values\n",
    "y_test = test_data['emotion'].values\n",
    "\n",
    "# Split the training data into training and validation sets\n",
    "X_train, X_val, y_train, y_val = train_test_split(X_train, y_train, test_size=0.2, random_state=42)\n",
    "\n",
    "# Convert pixel values to numpy arrays\n",
    "X_train = [np.fromstring(x, dtype=int, sep=' ') for x in X_train]\n",
    "X_val = [np.fromstring(x, dtype=int, sep=' ') for x in X_val]\n",
    "X_test = [np.fromstring(x, dtype=int, sep=' ') for x in X_test]\n",
    "\n",
    "# Train the Random Forest classifier\n",
    "model = RandomForestClassifier(n_estimators=100, random_state=42)\n",
    "model.fit(X_train, y_train)\n",
    "\n",
    "# Predict on the validation set\n",
    "y_val_pred = model.predict(X_val)\n",
    "\n",
    "\n",
    "\n",
    "# Calculate precision, recall, and F1-score\n",
    "precision = precision_score(y_val, y_val_pred, average='weighted')\n",
    "recall = recall_score(y_val, y_val_pred, average='weighted')\n",
    "f1 = f1_score(y_val, y_val_pred, average='weighted')\n",
    "\n",
    "print(\"Precision:\", precision)\n",
    "print(\"Recall:\", recall)\n",
    "print(\"F1-score:\", f1)\n",
    "\n",
    "# Predict on the test set\n",
    "y_test_pred = model.predict(X_test)\n",
    "\n",
    "\n",
    "\n",
    "# Calculate precision, recall, and F1-score for the test set\n",
    "precision_test = precision_score(y_test, y_test_pred, average='weighted')\n",
    "recall_test = recall_score(y_test, y_test_pred, average='weighted')\n",
    "f1_test = f1_score(y_test, y_test_pred, average='weighted')\n",
    "\n",
    "print(\"Test Precision:\", precision_test)\n",
    "print(\"Test Recall:\", recall_test)\n",
    "print(\"Test F1-score:\", f1_test)\n"
   ]
  },
  {
   "cell_type": "code",
   "execution_count": 10,
   "id": "60345948",
   "metadata": {},
   "outputs": [
    {
     "data": {
      "image/png": "[encoded data removed]",
      "text/plain": [
       "<Figure size 640x480 with 2 Axes>"
      ]
     },
     "metadata": {},
     "output_type": "display_data"
    }
   ],
   "source": [
    "import matplotlib.pyplot as plt\n",
    "from sklearn.metrics import confusion_matrix, ConfusionMatrixDisplay\n",
    "\n",
    "# Calculate the confusion matrix\n",
    "cm = confusion_matrix(y_test, y_test_pred)\n",
    "\n",
    "# Display the confusion matrix\n",
    "disp = ConfusionMatrixDisplay(confusion_matrix=cm)\n",
    "disp.plot()\n",
    "plt.show()\n"
   ]
  },
  {
   "cell_type": "code",
   "execution_count": 13,
   "id": "f55da73a",
   "metadata": {},
   "outputs": [
    {
     "name": "stdout",
     "output_type": "stream",
     "text": [
      "Validation Accuracy: 0.7229166666666667\n",
      "Test Accuracy: 0.72\n",
      "Trained model saved to 'trained_model_new.joblib'\n"
     ]
    }
   ],
   "source": [
    "from joblib import dump\n",
    "\n",
    "# Calculate the accuracy on the validation set\n",
    "val_accuracy = model.score(X_val, y_val)\n",
    "print(\"Validation Accuracy:\", val_accuracy)\n",
    "\n",
    "# Calculate the accuracy on the test set\n",
    "test_accuracy = model.score(X_test, y_test)\n",
    "print(\"Test Accuracy:\", test_accuracy)\n",
    "\n",
    "# Save the trained model to a file\n",
    "dump(model, 'trained_model_new.joblib')\n",
    "print(\"Trained model saved to 'trained_model_new.joblib'\")\n"
   ]
  },
  {
   "cell_type": "code",
   "execution_count": 16,
   "id": "f2b27184",
   "metadata": {},
   "outputs": [
    {
     "data": {
      "image/png": "[encoded data removed]",
      "text/plain": [
       "<Figure size 640x480 with 1 Axes>"
      ]
     },
     "metadata": {},
     "output_type": "display_data"
    },
    {
     "name": "stdout",
     "output_type": "stream",
     "text": [
      "Predicted Emotion: Happy\n"
     ]
    }
   ],
   "source": [
    "import cv2\n",
    "\n",
    "# Function to convert image to 48x48 grayscale\n",
    "def convert_to_grayscale(image_path):\n",
    "    # Read the image\n",
    "    image = cv2.imread(image_path)\n",
    "    \n",
    "    # Convert to grayscale\n",
    "    grayscale_image = cv2.cvtColor(image, cv2.COLOR_BGR2GRAY)\n",
    "    \n",
    "    # Resize to 48x48\n",
    "    resized_image = cv2.resize(grayscale_image, (48, 48))\n",
    "    \n",
    "    return resized_image\n",
    "\n",
    "# Example usage\n",
    "image_path = r'C:\\Users\\dilsh\\ml new\\happy\\PrivateTest_251881.jpg'  # Replace with the actual image file path\n",
    "resized_image = convert_to_grayscale(image_path)\n",
    "\n",
    "import matplotlib.pyplot as plt\n",
    "\n",
    "# Plot the resized image\n",
    "plt.imshow(resized_image, cmap='gray')\n",
    "plt.axis('off')\n",
    "plt.show()\n",
    "\n",
    "from joblib import load\n",
    "\n",
    "# Load the trained model\n",
    "model = load('trained_model_new.joblib')\n",
    "\n",
    "# Define the emotion labels\n",
    "emotion_labels = ['Angry', 'Disgust', 'Fear', 'Happy', 'Sad', 'Surprise', 'Neutral']\n",
    "\n",
    "# Reshape the image to match the expected input shape of the model\n",
    "reshaped_image = resized_image.reshape(1, -1)\n",
    "\n",
    "# Predict the emotion label\n",
    "emotion_label = model.predict(reshaped_image)[0]\n",
    "\n",
    "# Map the emotion label to the corresponding emotion name\n",
    "emotion_name = emotion_labels[emotion_label]\n",
    "\n",
    "# Print the predicted emotion name\n",
    "print(\"Predicted Emotion:\", emotion_name)\n",
    "\n",
    "\n"
   ]
  },
  {
   "cell_type": "code",
   "execution_count": 15,
   "id": "203952c0",
   "metadata": {},
   "outputs": [
    {
     "data": {
      "image/png": "[encoded data removed]",
      "text/plain": [
       "<Figure size 640x480 with 1 Axes>"
      ]
     },
     "metadata": {},
     "output_type": "display_data"
    },
    {
     "name": "stdout",
     "output_type": "stream",
     "text": [
      "Predicted Emotion: Sad\n"
     ]
    }
   ],
   "source": [
    "import cv2\n",
    "\n",
    "# Function to convert image to 48x48 grayscale\n",
    "def convert_to_grayscale(image_path):\n",
    "    # Read the image\n",
    "    image = cv2.imread(image_path)\n",
    "    \n",
    "    # Convert to grayscale\n",
    "    grayscale_image = cv2.cvtColor(image, cv2.COLOR_BGR2GRAY)\n",
    "    \n",
    "    # Resize to 48x48\n",
    "    resized_image = cv2.resize(grayscale_image, (48, 48))\n",
    "    \n",
    "    return resized_image\n",
    "\n",
    "# Example usage\n",
    "image_path = r'C:\\Users\\dilsh\\ml new\\sad\\PrivateTest_3062720.jpg'  # Replace with the actual image file path\n",
    "resized_image = convert_to_grayscale(image_path)\n",
    "\n",
    "import matplotlib.pyplot as plt\n",
    "\n",
    "# Plot the resized image\n",
    "plt.imshow(resized_image, cmap='gray')\n",
    "plt.axis('off')\n",
    "plt.show()\n",
    "\n",
    "from joblib import load\n",
    "\n",
    "# Load the trained model\n",
    "model = load('trained_model.joblib')\n",
    "\n",
    "# Define the emotion labels\n",
    "emotion_labels = ['Angry', 'Disgust', 'Fear', 'Happy', 'Sad', 'Surprise', 'Neutral']\n",
    "\n",
    "# Reshape the image to match the expected input shape of the model\n",
    "reshaped_image = resized_image.reshape(1, -1)\n",
    "\n",
    "# Predict the emotion label\n",
    "emotion_label = model.predict(reshaped_image)[0]\n",
    "\n",
    "# Map the emotion label to the corresponding emotion name\n",
    "emotion_name = emotion_labels[emotion_label]\n",
    "\n",
    "# Print the predicted emotion name\n",
    "print(\"Predicted Emotion:\", emotion_name)\n",
    "\n",
    "\n"
   ]
  },
  {
   "cell_type": "code",
   "execution_count": null,
   "id": "5e58b134",
   "metadata": {},
   "outputs": [],
   "source": []
  }
 ],
 "metadata": {
  "kernelspec": {
   "display_name": "Python 3 (ipykernel)",
   "language": "python",
   "name": "python3"
  },
  "language_info": {
   "codemirror_mode": {
    "name": "ipython",
    "version": 3
   },
   "file_extension": ".py",
   "mimetype": "text/x-python",
   "name": "python",
   "nbconvert_exporter": "python",
   "pygments_lexer": "ipython3",
   "version": "3.11.2"
  }
 },
 "nbformat": 4,
 "nbformat_minor": 5
}
